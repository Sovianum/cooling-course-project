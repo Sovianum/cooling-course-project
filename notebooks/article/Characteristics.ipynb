{
 "cells": [
  {
   "cell_type": "markdown",
   "metadata": {},
   "source": [
    "# Анализ параметров установок на режимах частичной мощности"
   ]
  },
  {
   "cell_type": "markdown",
   "metadata": {},
   "source": [
    "## Импорт библиотек"
   ]
  },
  {
   "cell_type": "code",
   "execution_count": 7,
   "metadata": {
    "collapsed": false
   },
   "outputs": [],
   "source": [
    "import numpy as np\n",
    "import scipy as sp\n",
    "import matplotlib.pyplot as plt\n",
    "import pandas as pd\n",
    "from IPython.display import Latex\n",
    "from IPython.display import Math\n",
    "pd.set_option('max_colwidth',80)"
   ]
  },
  {
   "cell_type": "markdown",
   "metadata": {},
   "source": [
    "## Постоянные"
   ]
  },
  {
   "cell_type": "code",
   "execution_count": 8,
   "metadata": {
    "collapsed": true
   },
   "outputs": [],
   "source": [
    "data_root = '/home/artem/gowork/src/github.com/Sovianum/cooling-course-project/notebooks/data/'"
   ]
  },
  {
   "cell_type": "markdown",
   "metadata": {},
   "source": [
    "## Функции ввода-вывода"
   ]
  },
  {
   "cell_type": "markdown",
   "metadata": {},
   "source": [
    "### Функции работы с текстом"
   ]
  },
  {
   "cell_type": "code",
   "execution_count": null,
   "metadata": {
    "collapsed": true
   },
   "outputs": [],
   "source": [
    "def get_2_shafts_parameters_note(extremal_value_df):\n",
    "    pi = extremal_value_df.pi.values[0]\n",
    "    eta = extremal_value_df.eta.values[0]\n",
    "    power = extremal_value_df.N_e.values[0] / 1e6\n",
    "    mass_rate = extremal_value_df.G.values[0]\n",
    "    return Math(r'''\n",
    "    \\begin{align}\n",
    "        \\pi = %.1f && \\eta = %.3f && L_e = %.3f \\ МДж/кг && G = %.1f \\ кг/с\n",
    "    \\end{align}\n",
    "    ''' % (pi, eta, power, mass_rate))"
   ]
  },
  {
   "cell_type": "code",
   "execution_count": 15,
   "metadata": {
    "collapsed": false
   },
   "outputs": [
    {
     "data": {
      "text/html": [
       "<div>\n",
       "<table border=\"1\" class=\"dataframe\">\n",
       "  <thead>\n",
       "    <tr style=\"text-align: right;\">\n",
       "      <th></th>\n",
       "      <th>g</th>\n",
       "      <th>g_norm</th>\n",
       "      <th>g_norm_c</th>\n",
       "      <th>g_norm_tf</th>\n",
       "      <th>p</th>\n",
       "      <th>pi_c</th>\n",
       "      <th>pi_f</th>\n",
       "      <th>pi_tc</th>\n",
       "      <th>rpm_ft</th>\n",
       "      <th>rpm_tc</th>\n",
       "      <th>t</th>\n",
       "    </tr>\n",
       "  </thead>\n",
       "  <tbody>\n",
       "    <tr>\n",
       "      <th>16</th>\n",
       "      <td>66.376521</td>\n",
       "      <td>0.999486</td>\n",
       "      <td>0.723937</td>\n",
       "      <td>0.968636</td>\n",
       "      <td>5.757610</td>\n",
       "      <td>5.288685</td>\n",
       "      <td>1.604881</td>\n",
       "      <td>2.624152</td>\n",
       "      <td>1974.587189</td>\n",
       "      <td>8987.525266</td>\n",
       "      <td>1063</td>\n",
       "    </tr>\n",
       "    <tr>\n",
       "      <th>15</th>\n",
       "      <td>67.483855</td>\n",
       "      <td>0.999539</td>\n",
       "      <td>0.736015</td>\n",
       "      <td>0.971739</td>\n",
       "      <td>6.193062</td>\n",
       "      <td>5.403111</td>\n",
       "      <td>1.634004</td>\n",
       "      <td>2.633146</td>\n",
       "      <td>2023.318224</td>\n",
       "      <td>9047.229192</td>\n",
       "      <td>1073</td>\n",
       "    </tr>\n",
       "    <tr>\n",
       "      <th>14</th>\n",
       "      <td>68.573111</td>\n",
       "      <td>0.999585</td>\n",
       "      <td>0.747895</td>\n",
       "      <td>0.974631</td>\n",
       "      <td>6.640678</td>\n",
       "      <td>5.516871</td>\n",
       "      <td>1.663133</td>\n",
       "      <td>2.641496</td>\n",
       "      <td>2071.094885</td>\n",
       "      <td>9105.187385</td>\n",
       "      <td>1083</td>\n",
       "    </tr>\n",
       "    <tr>\n",
       "      <th>13</th>\n",
       "      <td>69.643436</td>\n",
       "      <td>0.999624</td>\n",
       "      <td>0.759568</td>\n",
       "      <td>0.977318</td>\n",
       "      <td>7.099701</td>\n",
       "      <td>5.629867</td>\n",
       "      <td>1.692247</td>\n",
       "      <td>2.649223</td>\n",
       "      <td>2117.918758</td>\n",
       "      <td>9161.424394</td>\n",
       "      <td>1093</td>\n",
       "    </tr>\n",
       "    <tr>\n",
       "      <th>12</th>\n",
       "      <td>70.695340</td>\n",
       "      <td>0.999658</td>\n",
       "      <td>0.771041</td>\n",
       "      <td>0.979807</td>\n",
       "      <td>7.569790</td>\n",
       "      <td>5.742115</td>\n",
       "      <td>1.721356</td>\n",
       "      <td>2.656350</td>\n",
       "      <td>2163.834127</td>\n",
       "      <td>9216.030843</td>\n",
       "      <td>1103</td>\n",
       "    </tr>\n",
       "    <tr>\n",
       "      <th>11</th>\n",
       "      <td>71.728825</td>\n",
       "      <td>0.999688</td>\n",
       "      <td>0.782312</td>\n",
       "      <td>0.982107</td>\n",
       "      <td>8.050428</td>\n",
       "      <td>5.853586</td>\n",
       "      <td>1.750456</td>\n",
       "      <td>2.662899</td>\n",
       "      <td>2208.864455</td>\n",
       "      <td>9269.065529</td>\n",
       "      <td>1113</td>\n",
       "    </tr>\n",
       "    <tr>\n",
       "      <th>10</th>\n",
       "      <td>72.744139</td>\n",
       "      <td>0.999713</td>\n",
       "      <td>0.793386</td>\n",
       "      <td>0.984224</td>\n",
       "      <td>8.541151</td>\n",
       "      <td>5.964275</td>\n",
       "      <td>1.779550</td>\n",
       "      <td>2.668895</td>\n",
       "      <td>2253.036590</td>\n",
       "      <td>9320.594928</td>\n",
       "      <td>1123</td>\n",
       "    </tr>\n",
       "    <tr>\n",
       "      <th>9</th>\n",
       "      <td>73.741256</td>\n",
       "      <td>0.999735</td>\n",
       "      <td>0.804261</td>\n",
       "      <td>0.986167</td>\n",
       "      <td>9.041390</td>\n",
       "      <td>6.074154</td>\n",
       "      <td>1.808632</td>\n",
       "      <td>2.674358</td>\n",
       "      <td>2296.366575</td>\n",
       "      <td>9370.667392</td>\n",
       "      <td>1133</td>\n",
       "    </tr>\n",
       "    <tr>\n",
       "      <th>8</th>\n",
       "      <td>74.402173</td>\n",
       "      <td>0.999749</td>\n",
       "      <td>0.811469</td>\n",
       "      <td>0.987532</td>\n",
       "      <td>9.438359</td>\n",
       "      <td>6.156892</td>\n",
       "      <td>1.830741</td>\n",
       "      <td>2.678051</td>\n",
       "      <td>2329.670622</td>\n",
       "      <td>9403.710835</td>\n",
       "      <td>1143</td>\n",
       "    </tr>\n",
       "    <tr>\n",
       "      <th>7</th>\n",
       "      <td>75.007223</td>\n",
       "      <td>0.999761</td>\n",
       "      <td>0.818068</td>\n",
       "      <td>0.988748</td>\n",
       "      <td>9.824754</td>\n",
       "      <td>6.235393</td>\n",
       "      <td>1.851843</td>\n",
       "      <td>2.681290</td>\n",
       "      <td>2361.216108</td>\n",
       "      <td>9433.763944</td>\n",
       "      <td>1153</td>\n",
       "    </tr>\n",
       "    <tr>\n",
       "      <th>6</th>\n",
       "      <td>75.571930</td>\n",
       "      <td>0.999772</td>\n",
       "      <td>0.824227</td>\n",
       "      <td>0.989847</td>\n",
       "      <td>10.204975</td>\n",
       "      <td>6.310887</td>\n",
       "      <td>1.872251</td>\n",
       "      <td>2.684173</td>\n",
       "      <td>2391.472084</td>\n",
       "      <td>9461.633437</td>\n",
       "      <td>1163</td>\n",
       "    </tr>\n",
       "    <tr>\n",
       "      <th>5</th>\n",
       "      <td>76.096898</td>\n",
       "      <td>0.999780</td>\n",
       "      <td>0.829953</td>\n",
       "      <td>0.990837</td>\n",
       "      <td>10.578320</td>\n",
       "      <td>6.383379</td>\n",
       "      <td>1.891956</td>\n",
       "      <td>2.686728</td>\n",
       "      <td>2420.470171</td>\n",
       "      <td>9487.383687</td>\n",
       "      <td>1173</td>\n",
       "    </tr>\n",
       "    <tr>\n",
       "      <th>4</th>\n",
       "      <td>76.585862</td>\n",
       "      <td>0.999788</td>\n",
       "      <td>0.835286</td>\n",
       "      <td>0.991732</td>\n",
       "      <td>10.945299</td>\n",
       "      <td>6.453135</td>\n",
       "      <td>1.911017</td>\n",
       "      <td>2.688997</td>\n",
       "      <td>2448.327609</td>\n",
       "      <td>9511.225944</td>\n",
       "      <td>1183</td>\n",
       "    </tr>\n",
       "    <tr>\n",
       "      <th>3</th>\n",
       "      <td>77.041038</td>\n",
       "      <td>0.999795</td>\n",
       "      <td>0.840250</td>\n",
       "      <td>0.992540</td>\n",
       "      <td>11.305954</td>\n",
       "      <td>6.520301</td>\n",
       "      <td>1.929464</td>\n",
       "      <td>2.691009</td>\n",
       "      <td>2475.115853</td>\n",
       "      <td>9533.292628</td>\n",
       "      <td>1193</td>\n",
       "    </tr>\n",
       "    <tr>\n",
       "      <th>2</th>\n",
       "      <td>77.466472</td>\n",
       "      <td>0.999801</td>\n",
       "      <td>0.844890</td>\n",
       "      <td>0.993273</td>\n",
       "      <td>11.661148</td>\n",
       "      <td>6.585182</td>\n",
       "      <td>1.947370</td>\n",
       "      <td>2.692796</td>\n",
       "      <td>2500.957955</td>\n",
       "      <td>9553.799326</td>\n",
       "      <td>1203</td>\n",
       "    </tr>\n",
       "    <tr>\n",
       "      <th>1</th>\n",
       "      <td>77.864763</td>\n",
       "      <td>0.999806</td>\n",
       "      <td>0.849234</td>\n",
       "      <td>0.993938</td>\n",
       "      <td>12.011290</td>\n",
       "      <td>6.647966</td>\n",
       "      <td>1.964778</td>\n",
       "      <td>2.694383</td>\n",
       "      <td>2525.933906</td>\n",
       "      <td>9572.887883</td>\n",
       "      <td>1213</td>\n",
       "    </tr>\n",
       "    <tr>\n",
       "      <th>0</th>\n",
       "      <td>78.237866</td>\n",
       "      <td>0.999810</td>\n",
       "      <td>0.853303</td>\n",
       "      <td>0.994541</td>\n",
       "      <td>12.356608</td>\n",
       "      <td>6.708790</td>\n",
       "      <td>1.981719</td>\n",
       "      <td>2.695790</td>\n",
       "      <td>2550.104722</td>\n",
       "      <td>9590.666476</td>\n",
       "      <td>1223</td>\n",
       "    </tr>\n",
       "  </tbody>\n",
       "</table>\n",
       "</div>"
      ],
      "text/plain": [
       "            g    g_norm  g_norm_c  g_norm_tf          p      pi_c      pi_f  \\\n",
       "16  66.376521  0.999486  0.723937   0.968636   5.757610  5.288685  1.604881   \n",
       "15  67.483855  0.999539  0.736015   0.971739   6.193062  5.403111  1.634004   \n",
       "14  68.573111  0.999585  0.747895   0.974631   6.640678  5.516871  1.663133   \n",
       "13  69.643436  0.999624  0.759568   0.977318   7.099701  5.629867  1.692247   \n",
       "12  70.695340  0.999658  0.771041   0.979807   7.569790  5.742115  1.721356   \n",
       "11  71.728825  0.999688  0.782312   0.982107   8.050428  5.853586  1.750456   \n",
       "10  72.744139  0.999713  0.793386   0.984224   8.541151  5.964275  1.779550   \n",
       "9   73.741256  0.999735  0.804261   0.986167   9.041390  6.074154  1.808632   \n",
       "8   74.402173  0.999749  0.811469   0.987532   9.438359  6.156892  1.830741   \n",
       "7   75.007223  0.999761  0.818068   0.988748   9.824754  6.235393  1.851843   \n",
       "6   75.571930  0.999772  0.824227   0.989847  10.204975  6.310887  1.872251   \n",
       "5   76.096898  0.999780  0.829953   0.990837  10.578320  6.383379  1.891956   \n",
       "4   76.585862  0.999788  0.835286   0.991732  10.945299  6.453135  1.911017   \n",
       "3   77.041038  0.999795  0.840250   0.992540  11.305954  6.520301  1.929464   \n",
       "2   77.466472  0.999801  0.844890   0.993273  11.661148  6.585182  1.947370   \n",
       "1   77.864763  0.999806  0.849234   0.993938  12.011290  6.647966  1.964778   \n",
       "0   78.237866  0.999810  0.853303   0.994541  12.356608  6.708790  1.981719   \n",
       "\n",
       "       pi_tc       rpm_ft       rpm_tc     t  \n",
       "16  2.624152  1974.587189  8987.525266  1063  \n",
       "15  2.633146  2023.318224  9047.229192  1073  \n",
       "14  2.641496  2071.094885  9105.187385  1083  \n",
       "13  2.649223  2117.918758  9161.424394  1093  \n",
       "12  2.656350  2163.834127  9216.030843  1103  \n",
       "11  2.662899  2208.864455  9269.065529  1113  \n",
       "10  2.668895  2253.036590  9320.594928  1123  \n",
       "9   2.674358  2296.366575  9370.667392  1133  \n",
       "8   2.678051  2329.670622  9403.710835  1143  \n",
       "7   2.681290  2361.216108  9433.763944  1153  \n",
       "6   2.684173  2391.472084  9461.633437  1163  \n",
       "5   2.686728  2420.470171  9487.383687  1173  \n",
       "4   2.688997  2448.327609  9511.225944  1183  \n",
       "3   2.691009  2475.115853  9533.292628  1193  \n",
       "2   2.692796  2500.957955  9553.799326  1203  \n",
       "1   2.694383  2525.933906  9572.887883  1213  \n",
       "0   2.695790  2550.104722  9590.666476  1223  "
      ]
     },
     "execution_count": 15,
     "metadata": {},
     "output_type": "execute_result"
    }
   ],
   "source": [
    "data_2nr"
   ]
  },
  {
   "cell_type": "markdown",
   "metadata": {},
   "source": [
    "# Загрузка данных по двухвальной схеме на 16 МВт"
   ]
  },
  {
   "cell_type": "code",
   "execution_count": 12,
   "metadata": {
    "collapsed": false
   },
   "outputs": [],
   "source": [
    "data_2n = pd.read_json(data_root + '2n.csv').sort_values('t')\n",
    "data_2nr = pd.read_json(data_root + '2nr.csv').sort_values('t')\n",
    "data_3n = pd.read_json(data_root + '3n.csv').sort_values('t')"
   ]
  },
  {
   "cell_type": "markdown",
   "metadata": {},
   "source": [
    "g - расход, кг/c; \n",
    "g_norm - относительный приведенный расход в турбине компрессоре;\n",
    "g_norm_c - относительный приведенный расход в компрессоре;\n",
    "g_norm_tf - относительный приведенный расход в свободной турбине;\n",
    "p - мощность в МВт; \n",
    "pi_c - степень повышения давления в компрессоре; \n",
    "pi_f - степень понижения давления в свободной турбине; \n",
    "pi_tc - степень понижения давления в турбине компрессора; \n",
    "t - температура в камере сгорания "
   ]
  },
  {
   "cell_type": "code",
   "execution_count": null,
   "metadata": {
    "collapsed": false
   },
   "outputs": [],
   "source": [
    "data_2_free"
   ]
  },
  {
   "cell_type": "markdown",
   "metadata": {},
   "source": [
    "#### Максимальные значения различных параметров "
   ]
  },
  {
   "cell_type": "code",
   "execution_count": null,
   "metadata": {
    "collapsed": false
   },
   "outputs": [],
   "source": [
    "data_2_free.max()"
   ]
  },
  {
   "cell_type": "markdown",
   "metadata": {},
   "source": [
    "#### Построим графики параметров установки от мощности установки (все величины и мощность установки отнесены к максимальным значениям соответствующих параметров)"
   ]
  },
  {
   "cell_type": "code",
   "execution_count": null,
   "metadata": {
    "collapsed": false
   },
   "outputs": [],
   "source": [
    "data_2_free_norm = data_2_free / data_2_free.max()"
   ]
  },
  {
   "cell_type": "code",
   "execution_count": null,
   "metadata": {
    "collapsed": false
   },
   "outputs": [],
   "source": [
    "plt.plot(\n",
    "    data_2_free_norm.p, data_2_free_norm.g,\n",
    "    data_2_free_norm.p, data_2_free_norm.pi_c,\n",
    "    data_2_free_norm.p, data_2_free_norm.pi_f,\n",
    "    data_2_free_norm.p, data_2_free_norm.pi_tc,\n",
    "    data_2_free_norm.p, data_2_free_norm.t\n",
    ")\n",
    "plt.grid()\n",
    "plt.legend(['$Расход$', '$\\pi_{компрессора}$', '$\\pi_{турбины}$', '$\\pi_{турбины \\/\\ компрессора}$', '$T_г$'], loc='best')\n",
    "plt.show()"
   ]
  },
  {
   "cell_type": "code",
   "execution_count": null,
   "metadata": {
    "collapsed": true
   },
   "outputs": [],
   "source": []
  }
 ],
 "metadata": {
  "kernelspec": {
   "display_name": "Python 3",
   "language": "python",
   "name": "python3"
  },
  "language_info": {
   "codemirror_mode": {
    "name": "ipython",
    "version": 3
   },
   "file_extension": ".py",
   "mimetype": "text/x-python",
   "name": "python",
   "nbconvert_exporter": "python",
   "pygments_lexer": "ipython3",
   "version": "3.5.2"
  }
 },
 "nbformat": 4,
 "nbformat_minor": 1
}
