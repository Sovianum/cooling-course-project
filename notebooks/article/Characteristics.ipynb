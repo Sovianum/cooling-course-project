{
 "cells": [
  {
   "cell_type": "code",
   "execution_count": 1,
   "metadata": {
    "collapsed": false
   },
   "outputs": [
    {
     "name": "stdout",
     "output_type": "stream",
     "text": [
      "Populating the interactive namespace from numpy and matplotlib\n"
     ]
    }
   ],
   "source": [
    "import pandas as pd\n",
    "import matplotlib.pyplot as plt\n",
    "import scipy as sp\n",
    "%pylab inline\n",
    "pylab.rcParams['figure.figsize'] = (10, 6)"
   ]
  },
  {
   "cell_type": "markdown",
   "metadata": {},
   "source": [
    "# Загрузка данных по двухвальной схеме на 16 МВт"
   ]
  },
  {
   "cell_type": "code",
   "execution_count": 2,
   "metadata": {
    "collapsed": true
   },
   "outputs": [],
   "source": [
    "data_2_free = pd.read_json('/tmp/dat').sort_values('t')"
   ]
  },
  {
   "cell_type": "markdown",
   "metadata": {},
   "source": [
    "g - расход, кг/c; \n",
    "g_norm - относительный приведенный расход в турбине компрессоре;\n",
    "g_norm_c - относительный приведенный расход в компрессоре;\n",
    "g_norm_tf - относительный приведенный расход в свободной турбине;\n",
    "p - мощность в МВт; \n",
    "pi_c - степень повышения давления в компрессоре; \n",
    "pi_f - степень понижения давления в свободной турбине; \n",
    "pi_tc - степень понижения давления в турбине компрессора; \n",
    "t - температура в камере сгорания "
   ]
  },
  {
   "cell_type": "code",
   "execution_count": 3,
   "metadata": {
    "collapsed": false
   },
   "outputs": [
    {
     "data": {
      "text/html": [
       "<div>\n",
       "<table border=\"1\" class=\"dataframe\">\n",
       "  <thead>\n",
       "    <tr style=\"text-align: right;\">\n",
       "      <th></th>\n",
       "      <th>g</th>\n",
       "      <th>g_norm</th>\n",
       "      <th>g_norm_c</th>\n",
       "      <th>g_norm_tf</th>\n",
       "      <th>p</th>\n",
       "      <th>pi_c</th>\n",
       "      <th>pi_f</th>\n",
       "      <th>pi_tc</th>\n",
       "      <th>rpm_ft</th>\n",
       "      <th>rpm_tc</th>\n",
       "      <th>t</th>\n",
       "    </tr>\n",
       "  </thead>\n",
       "  <tbody>\n",
       "    <tr>\n",
       "      <th>16</th>\n",
       "      <td>49.793969</td>\n",
       "      <td>0.999739</td>\n",
       "      <td>0.765376</td>\n",
       "      <td>0.985802</td>\n",
       "      <td>8.898238</td>\n",
       "      <td>7.041515</td>\n",
       "      <td>2.241385</td>\n",
       "      <td>2.689990</td>\n",
       "      <td>2302.489495</td>\n",
       "      <td>9299.077127</td>\n",
       "      <td>1240</td>\n",
       "    </tr>\n",
       "    <tr>\n",
       "      <th>15</th>\n",
       "      <td>50.475986</td>\n",
       "      <td>0.999758</td>\n",
       "      <td>0.775860</td>\n",
       "      <td>0.987598</td>\n",
       "      <td>9.330382</td>\n",
       "      <td>7.167946</td>\n",
       "      <td>2.277292</td>\n",
       "      <td>2.695114</td>\n",
       "      <td>2339.327492</td>\n",
       "      <td>9343.839342</td>\n",
       "      <td>1250</td>\n",
       "    </tr>\n",
       "    <tr>\n",
       "      <th>14</th>\n",
       "      <td>51.146510</td>\n",
       "      <td>0.999774</td>\n",
       "      <td>0.786166</td>\n",
       "      <td>0.989236</td>\n",
       "      <td>9.768209</td>\n",
       "      <td>7.293471</td>\n",
       "      <td>2.313189</td>\n",
       "      <td>2.699754</td>\n",
       "      <td>2375.516124</td>\n",
       "      <td>9387.361158</td>\n",
       "      <td>1260</td>\n",
       "    </tr>\n",
       "    <tr>\n",
       "      <th>13</th>\n",
       "      <td>51.805728</td>\n",
       "      <td>0.999789</td>\n",
       "      <td>0.796299</td>\n",
       "      <td>0.990722</td>\n",
       "      <td>10.211322</td>\n",
       "      <td>7.418095</td>\n",
       "      <td>2.349078</td>\n",
       "      <td>2.703934</td>\n",
       "      <td>2411.065318</td>\n",
       "      <td>9429.691691</td>\n",
       "      <td>1270</td>\n",
       "    </tr>\n",
       "    <tr>\n",
       "      <th>12</th>\n",
       "      <td>52.454275</td>\n",
       "      <td>0.999801</td>\n",
       "      <td>0.806268</td>\n",
       "      <td>0.992065</td>\n",
       "      <td>10.659512</td>\n",
       "      <td>7.541883</td>\n",
       "      <td>2.384974</td>\n",
       "      <td>2.707679</td>\n",
       "      <td>2445.998915</td>\n",
       "      <td>9470.905449</td>\n",
       "      <td>1280</td>\n",
       "    </tr>\n",
       "    <tr>\n",
       "      <th>11</th>\n",
       "      <td>53.091704</td>\n",
       "      <td>0.999811</td>\n",
       "      <td>0.816065</td>\n",
       "      <td>0.993272</td>\n",
       "      <td>11.112057</td>\n",
       "      <td>7.664749</td>\n",
       "      <td>2.420851</td>\n",
       "      <td>2.711009</td>\n",
       "      <td>2480.300563</td>\n",
       "      <td>9511.004902</td>\n",
       "      <td>1290</td>\n",
       "    </tr>\n",
       "    <tr>\n",
       "      <th>10</th>\n",
       "      <td>53.718570</td>\n",
       "      <td>0.999820</td>\n",
       "      <td>0.825701</td>\n",
       "      <td>0.994349</td>\n",
       "      <td>11.568706</td>\n",
       "      <td>7.786746</td>\n",
       "      <td>2.456720</td>\n",
       "      <td>2.713947</td>\n",
       "      <td>2513.990061</td>\n",
       "      <td>9550.054005</td>\n",
       "      <td>1300</td>\n",
       "    </tr>\n",
       "    <tr>\n",
       "      <th>9</th>\n",
       "      <td>54.335256</td>\n",
       "      <td>0.999828</td>\n",
       "      <td>0.835180</td>\n",
       "      <td>0.995304</td>\n",
       "      <td>12.029143</td>\n",
       "      <td>7.907913</td>\n",
       "      <td>2.492588</td>\n",
       "      <td>2.716517</td>\n",
       "      <td>2547.081487</td>\n",
       "      <td>9588.103005</td>\n",
       "      <td>1310</td>\n",
       "    </tr>\n",
       "    <tr>\n",
       "      <th>8</th>\n",
       "      <td>54.946974</td>\n",
       "      <td>0.999834</td>\n",
       "      <td>0.844583</td>\n",
       "      <td>0.996152</td>\n",
       "      <td>12.496407</td>\n",
       "      <td>8.029309</td>\n",
       "      <td>2.528761</td>\n",
       "      <td>2.718764</td>\n",
       "      <td>2579.852599</td>\n",
       "      <td>9625.491997</td>\n",
       "      <td>1320</td>\n",
       "    </tr>\n",
       "    <tr>\n",
       "      <th>7</th>\n",
       "      <td>55.544025</td>\n",
       "      <td>0.999840</td>\n",
       "      <td>0.853760</td>\n",
       "      <td>0.996885</td>\n",
       "      <td>12.963315</td>\n",
       "      <td>8.148873</td>\n",
       "      <td>2.564627</td>\n",
       "      <td>2.720662</td>\n",
       "      <td>2611.770191</td>\n",
       "      <td>9661.652185</td>\n",
       "      <td>1330</td>\n",
       "    </tr>\n",
       "    <tr>\n",
       "      <th>6</th>\n",
       "      <td>56.131773</td>\n",
       "      <td>0.999844</td>\n",
       "      <td>0.862794</td>\n",
       "      <td>0.997519</td>\n",
       "      <td>13.432893</td>\n",
       "      <td>8.267675</td>\n",
       "      <td>2.600491</td>\n",
       "      <td>2.722257</td>\n",
       "      <td>2643.114796</td>\n",
       "      <td>9696.932073</td>\n",
       "      <td>1340</td>\n",
       "    </tr>\n",
       "    <tr>\n",
       "      <th>5</th>\n",
       "      <td>56.710537</td>\n",
       "      <td>0.999848</td>\n",
       "      <td>0.871690</td>\n",
       "      <td>0.998060</td>\n",
       "      <td>13.904811</td>\n",
       "      <td>8.385742</td>\n",
       "      <td>2.636355</td>\n",
       "      <td>2.723571</td>\n",
       "      <td>2673.896477</td>\n",
       "      <td>9731.369022</td>\n",
       "      <td>1350</td>\n",
       "    </tr>\n",
       "    <tr>\n",
       "      <th>4</th>\n",
       "      <td>57.280859</td>\n",
       "      <td>0.999851</td>\n",
       "      <td>0.880456</td>\n",
       "      <td>0.998517</td>\n",
       "      <td>14.378816</td>\n",
       "      <td>8.503135</td>\n",
       "      <td>2.672227</td>\n",
       "      <td>2.724626</td>\n",
       "      <td>2704.129230</td>\n",
       "      <td>9765.012242</td>\n",
       "      <td>1360</td>\n",
       "    </tr>\n",
       "    <tr>\n",
       "      <th>3</th>\n",
       "      <td>57.843020</td>\n",
       "      <td>0.999853</td>\n",
       "      <td>0.889097</td>\n",
       "      <td>0.998895</td>\n",
       "      <td>14.854535</td>\n",
       "      <td>8.619882</td>\n",
       "      <td>2.708103</td>\n",
       "      <td>2.725443</td>\n",
       "      <td>2733.818706</td>\n",
       "      <td>9797.893296</td>\n",
       "      <td>1370</td>\n",
       "    </tr>\n",
       "    <tr>\n",
       "      <th>2</th>\n",
       "      <td>58.397558</td>\n",
       "      <td>0.999854</td>\n",
       "      <td>0.897621</td>\n",
       "      <td>0.999203</td>\n",
       "      <td>15.331736</td>\n",
       "      <td>8.736047</td>\n",
       "      <td>2.743991</td>\n",
       "      <td>2.726047</td>\n",
       "      <td>2762.978964</td>\n",
       "      <td>9830.057367</td>\n",
       "      <td>1380</td>\n",
       "    </tr>\n",
       "    <tr>\n",
       "      <th>1</th>\n",
       "      <td>58.944876</td>\n",
       "      <td>0.999855</td>\n",
       "      <td>0.906034</td>\n",
       "      <td>0.999448</td>\n",
       "      <td>15.810114</td>\n",
       "      <td>8.851674</td>\n",
       "      <td>2.779892</td>\n",
       "      <td>2.726457</td>\n",
       "      <td>2791.618339</td>\n",
       "      <td>9861.540151</td>\n",
       "      <td>1390</td>\n",
       "    </tr>\n",
       "    <tr>\n",
       "      <th>0</th>\n",
       "      <td>59.485198</td>\n",
       "      <td>0.999856</td>\n",
       "      <td>0.914339</td>\n",
       "      <td>0.999637</td>\n",
       "      <td>16.289274</td>\n",
       "      <td>8.966783</td>\n",
       "      <td>2.815794</td>\n",
       "      <td>2.726697</td>\n",
       "      <td>2819.739354</td>\n",
       "      <td>9892.365256</td>\n",
       "      <td>1400</td>\n",
       "    </tr>\n",
       "  </tbody>\n",
       "</table>\n",
       "</div>"
      ],
      "text/plain": [
       "            g    g_norm  g_norm_c  g_norm_tf          p      pi_c      pi_f  \\\n",
       "16  49.793969  0.999739  0.765376   0.985802   8.898238  7.041515  2.241385   \n",
       "15  50.475986  0.999758  0.775860   0.987598   9.330382  7.167946  2.277292   \n",
       "14  51.146510  0.999774  0.786166   0.989236   9.768209  7.293471  2.313189   \n",
       "13  51.805728  0.999789  0.796299   0.990722  10.211322  7.418095  2.349078   \n",
       "12  52.454275  0.999801  0.806268   0.992065  10.659512  7.541883  2.384974   \n",
       "11  53.091704  0.999811  0.816065   0.993272  11.112057  7.664749  2.420851   \n",
       "10  53.718570  0.999820  0.825701   0.994349  11.568706  7.786746  2.456720   \n",
       "9   54.335256  0.999828  0.835180   0.995304  12.029143  7.907913  2.492588   \n",
       "8   54.946974  0.999834  0.844583   0.996152  12.496407  8.029309  2.528761   \n",
       "7   55.544025  0.999840  0.853760   0.996885  12.963315  8.148873  2.564627   \n",
       "6   56.131773  0.999844  0.862794   0.997519  13.432893  8.267675  2.600491   \n",
       "5   56.710537  0.999848  0.871690   0.998060  13.904811  8.385742  2.636355   \n",
       "4   57.280859  0.999851  0.880456   0.998517  14.378816  8.503135  2.672227   \n",
       "3   57.843020  0.999853  0.889097   0.998895  14.854535  8.619882  2.708103   \n",
       "2   58.397558  0.999854  0.897621   0.999203  15.331736  8.736047  2.743991   \n",
       "1   58.944876  0.999855  0.906034   0.999448  15.810114  8.851674  2.779892   \n",
       "0   59.485198  0.999856  0.914339   0.999637  16.289274  8.966783  2.815794   \n",
       "\n",
       "       pi_tc       rpm_ft       rpm_tc     t  \n",
       "16  2.689990  2302.489495  9299.077127  1240  \n",
       "15  2.695114  2339.327492  9343.839342  1250  \n",
       "14  2.699754  2375.516124  9387.361158  1260  \n",
       "13  2.703934  2411.065318  9429.691691  1270  \n",
       "12  2.707679  2445.998915  9470.905449  1280  \n",
       "11  2.711009  2480.300563  9511.004902  1290  \n",
       "10  2.713947  2513.990061  9550.054005  1300  \n",
       "9   2.716517  2547.081487  9588.103005  1310  \n",
       "8   2.718764  2579.852599  9625.491997  1320  \n",
       "7   2.720662  2611.770191  9661.652185  1330  \n",
       "6   2.722257  2643.114796  9696.932073  1340  \n",
       "5   2.723571  2673.896477  9731.369022  1350  \n",
       "4   2.724626  2704.129230  9765.012242  1360  \n",
       "3   2.725443  2733.818706  9797.893296  1370  \n",
       "2   2.726047  2762.978964  9830.057367  1380  \n",
       "1   2.726457  2791.618339  9861.540151  1390  \n",
       "0   2.726697  2819.739354  9892.365256  1400  "
      ]
     },
     "execution_count": 3,
     "metadata": {},
     "output_type": "execute_result"
    }
   ],
   "source": [
    "data_2_free"
   ]
  },
  {
   "cell_type": "markdown",
   "metadata": {},
   "source": [
    "#### Максимальные значения различных параметров "
   ]
  },
  {
   "cell_type": "code",
   "execution_count": 4,
   "metadata": {
    "collapsed": false
   },
   "outputs": [
    {
     "data": {
      "text/plain": [
       "g              59.485198\n",
       "g_norm          0.999856\n",
       "g_norm_c        0.914339\n",
       "g_norm_tf       0.999637\n",
       "p              16.289274\n",
       "pi_c            8.966783\n",
       "pi_f            2.815794\n",
       "pi_tc           2.726697\n",
       "rpm_ft       2819.739354\n",
       "rpm_tc       9892.365256\n",
       "t            1400.000000\n",
       "dtype: float64"
      ]
     },
     "execution_count": 4,
     "metadata": {},
     "output_type": "execute_result"
    }
   ],
   "source": [
    "data_2_free.max()"
   ]
  },
  {
   "cell_type": "markdown",
   "metadata": {},
   "source": [
    "#### Построим графики параметров установки от мощности установки (все величины и мощность установки отнесены к максимальным значениям соответствующих параметров)"
   ]
  },
  {
   "cell_type": "code",
   "execution_count": 5,
   "metadata": {
    "collapsed": false
   },
   "outputs": [],
   "source": [
    "data_2_free_norm = data_2_free / data_2_free.max()"
   ]
  },
  {
   "cell_type": "code",
   "execution_count": 6,
   "metadata": {
    "collapsed": false
   },
   "outputs": [
    {
     "data": {
      "image/png": "[encoded data removed]",
      "text/plain": [
       "<matplotlib.figure.Figure at 0x7efc70db7dd8>"
      ]
     },
     "metadata": {},
     "output_type": "display_data"
    }
   ],
   "source": [
    "plt.plot(\n",
    "    data_2_free_norm.p, data_2_free_norm.g,\n",
    "    data_2_free_norm.p, data_2_free_norm.pi_c,\n",
    "    data_2_free_norm.p, data_2_free_norm.pi_f,\n",
    "    data_2_free_norm.p, data_2_free_norm.pi_tc,\n",
    "    data_2_free_norm.p, data_2_free_norm.t\n",
    ")\n",
    "plt.grid()\n",
    "plt.legend(['$Расход$', '$\\pi_{компрессора}$', '$\\pi_{турбины}$', '$\\pi_{турбины \\/\\ компрессора}$', '$T_г$'], loc='best')\n",
    "plt.show()"
   ]
  },
  {
   "cell_type": "code",
   "execution_count": null,
   "metadata": {
    "collapsed": true
   },
   "outputs": [],
   "source": []
  }
 ],
 "metadata": {
  "kernelspec": {
   "display_name": "Python 3",
   "language": "python",
   "name": "python3"
  },
  "language_info": {
   "codemirror_mode": {
    "name": "ipython",
    "version": 3
   },
   "file_extension": ".py",
   "mimetype": "text/x-python",
   "name": "python",
   "nbconvert_exporter": "python",
   "pygments_lexer": "ipython3",
   "version": "3.5.2"
  }
 },
 "nbformat": 4,
 "nbformat_minor": 1
}
